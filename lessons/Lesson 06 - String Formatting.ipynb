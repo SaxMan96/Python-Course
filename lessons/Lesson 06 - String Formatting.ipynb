{
 "cells": [
  {
   "cell_type": "markdown",
   "metadata": {},
   "source": [
    "# Lesson 5 - String Formatting"
   ]
  },
  {
   "cell_type": "markdown",
   "metadata": {},
   "source": [
    "# String Formatting"
   ]
  },
  {
   "cell_type": "code",
   "execution_count": null,
   "metadata": {},
   "outputs": [],
   "source": [
    "word = 'word'\n",
    "sentence = \"This is a sentence.\"\n",
    "paragraph = \"\"\"This is a paragraph. It is\n",
    "made up of multiple lines and sentences.\"\"\""
   ]
  },
  {
   "cell_type": "code",
   "execution_count": null,
   "metadata": {},
   "outputs": [],
   "source": [
    "name = \"John\"\n",
    "surname = \"Smith\"\n",
    "print(\"Name: %s \\nSurname: %s\" % (name, surname))"
   ]
  },
  {
   "cell_type": "code",
   "execution_count": null,
   "metadata": {},
   "outputs": [],
   "source": [
    "age = 23\n",
    "print(\"Name: %s \\nAge: %d\" % (name, age))"
   ]
  },
  {
   "cell_type": "code",
   "execution_count": null,
   "metadata": {},
   "outputs": [],
   "source": [
    "print(\"Name: %d \\nAge: %d\" % (name, age))"
   ]
  },
  {
   "cell_type": "code",
   "execution_count": null,
   "metadata": {},
   "outputs": [],
   "source": [
    "print(f\"Name: {name}, Age:{age}\")"
   ]
  },
  {
   "cell_type": "code",
   "execution_count": null,
   "metadata": {},
   "outputs": [],
   "source": [
    "data = (\"John\", 23)\n",
    "print(\"%s has %d years\" % data)"
   ]
  },
  {
   "cell_type": "markdown",
   "metadata": {},
   "source": [
    "`%s` – String\n",
    "\n",
    "`%d` – Integers\n",
    "\n",
    "`%f` – Real nubers\n",
    "\n",
    "`%.<decimal_precision>` – Floating number\n",
    "\n",
    "`%x/%X` – integer numbers in hexagonal system"
   ]
  },
  {
   "cell_type": "code",
   "execution_count": null,
   "metadata": {},
   "outputs": [],
   "source": [
    "a = 4.34\n",
    "b = 54.432\n",
    "c = 16\n",
    "\n",
    "print(\"a = %f\" % a)\n",
    "print(\"b = %f\" % b)\n",
    "print(\"b = %.1f\" % b)\n",
    "print(\"In HEX %d is %X\" % (c, c))"
   ]
  },
  {
   "cell_type": "code",
   "execution_count": null,
   "metadata": {},
   "outputs": [],
   "source": [
    "'My name is {} and I am {} years old.'.format(name, age)"
   ]
  },
  {
   "cell_type": "code",
   "execution_count": null,
   "metadata": {},
   "outputs": [],
   "source": [
    "cart = [15,12,10]\n",
    "print(f'You have {len(cart)} items in your cart\\nTotal cost: {sum(cart)}$.')"
   ]
  },
  {
   "cell_type": "markdown",
   "metadata": {},
   "source": [
    "# Task: \n",
    "format this data into message string\n",
    "\n",
    "```python\n",
    "brand, model, year = \"Nissan\", \"Navara\", 2007\n",
    "```"
   ]
  },
  {
   "cell_type": "code",
   "execution_count": null,
   "metadata": {},
   "outputs": [],
   "source": [
    "..."
   ]
  },
  {
   "cell_type": "markdown",
   "metadata": {},
   "source": [
    "# Operations on Strings"
   ]
  },
  {
   "cell_type": "code",
   "execution_count": null,
   "metadata": {},
   "outputs": [],
   "source": [
    "t = \"My name is John\"\n",
    "t"
   ]
  },
  {
   "cell_type": "code",
   "execution_count": null,
   "metadata": {},
   "outputs": [],
   "source": [
    "len(t)"
   ]
  },
  {
   "cell_type": "code",
   "execution_count": null,
   "metadata": {},
   "outputs": [],
   "source": [
    "\"a\" * 10"
   ]
  },
  {
   "cell_type": "code",
   "execution_count": null,
   "metadata": {},
   "outputs": [],
   "source": [
    "n = \"abcdeabcde\"\n",
    "print(n.index(\"a\")) # 0\n",
    "print(n.index(\"d\")) # 3"
   ]
  },
  {
   "cell_type": "code",
   "execution_count": null,
   "metadata": {},
   "outputs": [],
   "source": [
    "n = \"abrakadabra\"\n",
    "print(n.count(\"a\"))  # 5\n",
    "print(n.count(\"ab\")) # 2"
   ]
  },
  {
   "cell_type": "code",
   "execution_count": null,
   "metadata": {},
   "outputs": [],
   "source": [
    "n = \"abcdefghijk\"\n",
    "print(n[2]) # c"
   ]
  },
  {
   "cell_type": "code",
   "execution_count": null,
   "metadata": {},
   "outputs": [],
   "source": [
    "n = \"abcdefghijklmnop\"\n",
    "print(n[3:7]) # defg"
   ]
  },
  {
   "cell_type": "code",
   "execution_count": null,
   "metadata": {},
   "outputs": [],
   "source": [
    "n = \"abcdefg\"\n",
    "\n",
    "print(n[0:4]) # abcd\n",
    "print(n[:4])  # abcd\n",
    "print(n[::])  # whole string\n",
    "\n",
    "print(n[4:len(n)]) # efg\n",
    "print(n[4:])       # efg"
   ]
  },
  {
   "cell_type": "code",
   "execution_count": null,
   "metadata": {},
   "outputs": [],
   "source": [
    "n = \"abcdef\"\n",
    "print(n[-1])    # f\n",
    "print(n[-4:-2]) # cd\n",
    "print(n[-4:])   # cdef\n",
    "print(n[:-2])   # abcd"
   ]
  },
  {
   "cell_type": "code",
   "execution_count": null,
   "metadata": {},
   "outputs": [],
   "source": [
    "n = \"Hello\"\n",
    "print(n.upper()) # HELLO\n",
    "print(n.lower()) # hello"
   ]
  },
  {
   "cell_type": "code",
   "execution_count": null,
   "metadata": {},
   "outputs": [],
   "source": [
    "n = \"Hello Al\"\n",
    "print(n.startswith(\"Hello\")) # True\n",
    "print(n.startswith(\"Hi\")) # False\n",
    "print(n.endswith(\"Al\"))     # True\n",
    "print(n.endswith(\"World\")) # False"
   ]
  },
  {
   "cell_type": "code",
   "execution_count": null,
   "metadata": {},
   "outputs": [],
   "source": [
    "n = \"My name is John\"\n",
    "tab = n.split(\" \")\n",
    "print(tab)"
   ]
  },
  {
   "cell_type": "markdown",
   "metadata": {},
   "source": [
    "# Task: \n",
    "write code that extract information from this strings:\n",
    "\n",
    "```python\n",
    "msg1 = \"Hi, my name is Alice, I play piano and I'm 15\"\n",
    "msg2 = \"Hi, my name is John, I play sax and I'm 17\"\n",
    "msg3 = \"Hi, my name is Ben, I play drumms and I'm 12\"\n",
    "# YOUR CODE HERE\n",
    "# ...\n",
    "# YOUR CODE HERE\n",
    "name = ...\n",
    "instrument = ...\n",
    "age = ...\n",
    "```"
   ]
  },
  {
   "cell_type": "code",
   "execution_count": null,
   "metadata": {},
   "outputs": [],
   "source": [
    "..."
   ]
  },
  {
   "cell_type": "markdown",
   "metadata": {},
   "source": [
    "# Escape characters"
   ]
  },
  {
   "cell_type": "code",
   "execution_count": null,
   "metadata": {},
   "outputs": [],
   "source": [
    "'This is Linode\\'s documentation site.'"
   ]
  },
  {
   "cell_type": "code",
   "execution_count": null,
   "metadata": {},
   "outputs": [],
   "source": [
    "'One line\\nnext line.'"
   ]
  },
  {
   "cell_type": "code",
   "execution_count": null,
   "metadata": {},
   "outputs": [],
   "source": [
    "print('One line\\nnext line.')"
   ]
  },
  {
   "cell_type": "code",
   "execution_count": null,
   "metadata": {},
   "outputs": [],
   "source": [
    "print('Tabulator\\texample')"
   ]
  },
  {
   "cell_type": "markdown",
   "metadata": {},
   "source": [
    "# Task: \n",
    "print string with content: \n",
    "\n",
    "[ \\ ^ $ . | ? * + ( )\n"
   ]
  },
  {
   "cell_type": "markdown",
   "metadata": {},
   "source": [
    "# Other String Functions"
   ]
  },
  {
   "cell_type": "code",
   "execution_count": null,
   "metadata": {},
   "outputs": [],
   "source": [
    "'   example '.strip()"
   ]
  },
  {
   "cell_type": "code",
   "execution_count": null,
   "metadata": {},
   "outputs": [],
   "source": [
    "' '.join(['This', 'string', 'has', 'five', 'words'])"
   ]
  },
  {
   "cell_type": "code",
   "execution_count": null,
   "metadata": {},
   "outputs": [],
   "source": [
    "','.join(['one', 'two', 'three', 'four', 'five'])"
   ]
  },
  {
   "cell_type": "markdown",
   "metadata": {},
   "source": [
    "# Task: \n",
    "format this data to look like a business card:\n",
    "\n",
    "```python\n",
    "name = \"John\"\n",
    "surname = \"Smith\"\n",
    "company = \"Campol\"\n",
    "mail = \"johnsmith@campol.com\"\n",
    "phone = 492739273\n",
    "```"
   ]
  },
  {
   "cell_type": "code",
   "execution_count": null,
   "metadata": {},
   "outputs": [],
   "source": [
    "..."
   ]
  }
 ],
 "metadata": {
  "kernelspec": {
   "display_name": "Python 3",
   "language": "python",
   "name": "python3"
  },
  "language_info": {
   "codemirror_mode": {
    "name": "ipython",
    "version": 3
   },
   "file_extension": ".py",
   "mimetype": "text/x-python",
   "name": "python",
   "nbconvert_exporter": "python",
   "pygments_lexer": "ipython3",
   "version": "3.7.3"
  },
  "toc": {
   "base_numbering": 1,
   "nav_menu": {},
   "number_sections": true,
   "sideBar": true,
   "skip_h1_title": false,
   "title_cell": "Table of Contents",
   "title_sidebar": "Contents",
   "toc_cell": false,
   "toc_position": {},
   "toc_section_display": true,
   "toc_window_display": false
  }
 },
 "nbformat": 4,
 "nbformat_minor": 4
}
